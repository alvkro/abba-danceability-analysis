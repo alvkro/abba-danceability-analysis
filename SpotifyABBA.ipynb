{
 "cells": [
  {
   "cell_type": "code",
   "execution_count": 21,
   "id": "4b5ab22b-c21f-4fb4-84b9-8df0dffab4ba",
   "metadata": {},
   "outputs": [],
   "source": [
    "import pandas as pd"
   ]
  },
  {
   "cell_type": "code",
   "execution_count": 22,
   "id": "ce2691b4-8120-449b-896e-ab7f99e4f3a9",
   "metadata": {},
   "outputs": [],
   "source": [
    "dados = pd.read_csv('light_spotify_dataset.csv')"
   ]
  },
  {
   "cell_type": "code",
   "execution_count": 28,
   "id": "9a3a408e-5af5-497f-8310-2441f24454ea",
   "metadata": {},
   "outputs": [],
   "source": [
    "abba = dados.loc[dados['artist'] == 'ABBA'][['artist', 'song', 'Danceability']]\n",
    "abba.sort_values('Danceability', ascending = False)\n",
    "abba.to_csv(\"ABBA_DANCE.csv\", index=False)"
   ]
  },
  {
   "cell_type": "code",
   "execution_count": null,
   "id": "a8cfc428-50f4-4ee3-bb9f-63905f9343b4",
   "metadata": {},
   "outputs": [],
   "source": []
  }
 ],
 "metadata": {
  "kernelspec": {
   "display_name": "Python 3 (ipykernel)",
   "language": "python",
   "name": "python3"
  },
  "language_info": {
   "codemirror_mode": {
    "name": "ipython",
    "version": 3
   },
   "file_extension": ".py",
   "mimetype": "text/x-python",
   "name": "python",
   "nbconvert_exporter": "python",
   "pygments_lexer": "ipython3",
   "version": "3.12.7"
  }
 },
 "nbformat": 4,
 "nbformat_minor": 5
}
